{
 "cells": [
  {
   "cell_type": "markdown",
   "id": "485e1628",
   "metadata": {},
   "source": [
    "# Problem Statement : "
   ]
  },
  {
   "cell_type": "markdown",
   "id": "a27ecac0",
   "metadata": {},
   "source": [
    "Predict whether a person will be diagonized with diabetes or not."
   ]
  },
  {
   "cell_type": "code",
   "execution_count": 1,
   "id": "c40e7db9",
   "metadata": {},
   "outputs": [],
   "source": [
    "import pandas as pd\n",
    "import numpy as np\n",
    "import matplotlib.pyplot as plt\n",
    "import seaborn as sns\n",
    "%matplotlib inline"
   ]
  },
  {
   "cell_type": "code",
   "execution_count": 2,
   "id": "ab11a284",
   "metadata": {},
   "outputs": [],
   "source": [
    "from sklearn.model_selection import train_test_split\n",
    "from sklearn.neighbors import KNeighborsClassifier\n",
    "from sklearn.metrics import confusion_matrix\n",
    "from sklearn.metrics import accuracy_score\n",
    "from sklearn.preprocessing import StandardScaler\n",
    "import random\n"
   ]
  },
  {
   "cell_type": "markdown",
   "id": "d7bab766",
   "metadata": {},
   "source": [
    "# Note :"
   ]
  },
  {
   "cell_type": "markdown",
   "id": "7150fe56",
   "metadata": {},
   "source": [
    "\"from sklearn.preprocessing import StandardScaler\"\n",
    "\n",
    "Many machine learning algorithms perform better when numerical input variables are scaled to a standard range.\n",
    "\n",
    "Standardization scales each input variable separately by subtracting the mean (called centering) and dividing by the standard deviation to shift the distribution to have a mean of zero and a standard deviation of one.\n",
    "\n",
    "A value is standardized as follows:\n",
    "\n",
    "    y = (x – mean) / standard_deviation\n",
    "    \n",
    "    mean = sum(x) / count(x)\n",
    "    \n",
    "    standard_deviation = sqrt( sum( (x – mean)^2 ) / count(x))\n",
    "    \n",
    "Also preprocessing is used to remove bias in the model. since in the pregnancies the value goes from 6 to 256 occationally and it will create the \n",
    "bias.\n",
    "  "
   ]
  },
  {
   "cell_type": "code",
   "execution_count": 3,
   "id": "e572292e",
   "metadata": {},
   "outputs": [],
   "source": [
    "# Dealing with the missing and NaN values\n",
    "missing_values = [0,\"NaN\"]"
   ]
  },
  {
   "cell_type": "code",
   "execution_count": 4,
   "id": "e7be7775",
   "metadata": {},
   "outputs": [],
   "source": [
    "# To know how many data has 0 value stored\n",
    "data = pd.read_csv(\"diabetes.csv\",na_values = missing_values)"
   ]
  },
  {
   "cell_type": "code",
   "execution_count": 5,
   "id": "90110cd4",
   "metadata": {
    "scrolled": false
   },
   "outputs": [
    {
     "data": {
      "text/html": [
       "<div>\n",
       "<style scoped>\n",
       "    .dataframe tbody tr th:only-of-type {\n",
       "        vertical-align: middle;\n",
       "    }\n",
       "\n",
       "    .dataframe tbody tr th {\n",
       "        vertical-align: top;\n",
       "    }\n",
       "\n",
       "    .dataframe thead th {\n",
       "        text-align: right;\n",
       "    }\n",
       "</style>\n",
       "<table border=\"1\" class=\"dataframe\">\n",
       "  <thead>\n",
       "    <tr style=\"text-align: right;\">\n",
       "      <th></th>\n",
       "      <th>Pregnancies</th>\n",
       "      <th>Glucose</th>\n",
       "      <th>BloodPressure</th>\n",
       "      <th>SkinThickness</th>\n",
       "      <th>Insulin</th>\n",
       "      <th>BMI</th>\n",
       "      <th>DiabetesPedigreeFunction</th>\n",
       "      <th>Age</th>\n",
       "      <th>Outcome</th>\n",
       "    </tr>\n",
       "  </thead>\n",
       "  <tbody>\n",
       "    <tr>\n",
       "      <th>0</th>\n",
       "      <td>6.0</td>\n",
       "      <td>148.0</td>\n",
       "      <td>72.0</td>\n",
       "      <td>35.0</td>\n",
       "      <td>NaN</td>\n",
       "      <td>33.6</td>\n",
       "      <td>0.627</td>\n",
       "      <td>50</td>\n",
       "      <td>1.0</td>\n",
       "    </tr>\n",
       "    <tr>\n",
       "      <th>1</th>\n",
       "      <td>1.0</td>\n",
       "      <td>85.0</td>\n",
       "      <td>66.0</td>\n",
       "      <td>29.0</td>\n",
       "      <td>NaN</td>\n",
       "      <td>26.6</td>\n",
       "      <td>0.351</td>\n",
       "      <td>31</td>\n",
       "      <td>NaN</td>\n",
       "    </tr>\n",
       "    <tr>\n",
       "      <th>2</th>\n",
       "      <td>8.0</td>\n",
       "      <td>183.0</td>\n",
       "      <td>64.0</td>\n",
       "      <td>NaN</td>\n",
       "      <td>NaN</td>\n",
       "      <td>23.3</td>\n",
       "      <td>0.672</td>\n",
       "      <td>32</td>\n",
       "      <td>1.0</td>\n",
       "    </tr>\n",
       "    <tr>\n",
       "      <th>3</th>\n",
       "      <td>1.0</td>\n",
       "      <td>89.0</td>\n",
       "      <td>66.0</td>\n",
       "      <td>23.0</td>\n",
       "      <td>94.0</td>\n",
       "      <td>28.1</td>\n",
       "      <td>0.167</td>\n",
       "      <td>21</td>\n",
       "      <td>NaN</td>\n",
       "    </tr>\n",
       "    <tr>\n",
       "      <th>4</th>\n",
       "      <td>NaN</td>\n",
       "      <td>137.0</td>\n",
       "      <td>40.0</td>\n",
       "      <td>35.0</td>\n",
       "      <td>168.0</td>\n",
       "      <td>43.1</td>\n",
       "      <td>2.288</td>\n",
       "      <td>33</td>\n",
       "      <td>1.0</td>\n",
       "    </tr>\n",
       "  </tbody>\n",
       "</table>\n",
       "</div>"
      ],
      "text/plain": [
       "   Pregnancies  Glucose  BloodPressure  SkinThickness  Insulin   BMI  \\\n",
       "0          6.0    148.0           72.0           35.0      NaN  33.6   \n",
       "1          1.0     85.0           66.0           29.0      NaN  26.6   \n",
       "2          8.0    183.0           64.0            NaN      NaN  23.3   \n",
       "3          1.0     89.0           66.0           23.0     94.0  28.1   \n",
       "4          NaN    137.0           40.0           35.0    168.0  43.1   \n",
       "\n",
       "   DiabetesPedigreeFunction  Age  Outcome  \n",
       "0                     0.627   50      1.0  \n",
       "1                     0.351   31      NaN  \n",
       "2                     0.672   32      1.0  \n",
       "3                     0.167   21      NaN  \n",
       "4                     2.288   33      1.0  "
      ]
     },
     "execution_count": 5,
     "metadata": {},
     "output_type": "execute_result"
    }
   ],
   "source": [
    "data.head()"
   ]
  },
  {
   "cell_type": "code",
   "execution_count": 6,
   "id": "764c08be",
   "metadata": {},
   "outputs": [
    {
     "data": {
      "text/plain": [
       "<AxesSubplot:>"
      ]
     },
     "execution_count": 6,
     "metadata": {},
     "output_type": "execute_result"
    },
    {
     "data": {
      "image/png": "[encoded data removed]",
      "text/plain": [
       "<Figure size 720x360 with 2 Axes>"
      ]
     },
     "metadata": {
      "needs_background": "light"
     },
     "output_type": "display_data"
    }
   ],
   "source": [
    "# Corealation between different features with the target variable i.e \"Outcome\"\n",
    "plt.figure(figsize = (10,5))\n",
    "sns.heatmap(data.corr(),annot=True)"
   ]
  },
  {
   "cell_type": "code",
   "execution_count": 7,
   "id": "57c0cfc0",
   "metadata": {},
   "outputs": [
    {
     "data": {
      "text/plain": [
       "1.0    268\n",
       "Name: Outcome, dtype: int64"
      ]
     },
     "execution_count": 7,
     "metadata": {},
     "output_type": "execute_result"
    }
   ],
   "source": [
    "data[\"Outcome\"].value_counts()"
   ]
  },
  {
   "cell_type": "code",
   "execution_count": 8,
   "id": "e1eccf6b",
   "metadata": {},
   "outputs": [
    {
     "data": {
      "text/plain": [
       "(768, 9)"
      ]
     },
     "execution_count": 8,
     "metadata": {},
     "output_type": "execute_result"
    }
   ],
   "source": [
    "data.shape"
   ]
  },
  {
   "cell_type": "markdown",
   "id": "cce8e5e0",
   "metadata": {},
   "source": [
    "Since dataset has less amount of data, it is the perfect scenario to use K-NN algorithm."
   ]
  },
  {
   "cell_type": "code",
   "execution_count": 9,
   "id": "11b4adae",
   "metadata": {},
   "outputs": [],
   "source": [
    "# Replacing the zeros in the data for measure data values\n",
    "zero_not_accepted = ['Glucose','BloodPressure','SkinThickness','Insulin','BMI']"
   ]
  },
  {
   "cell_type": "code",
   "execution_count": 10,
   "id": "2f82c27e",
   "metadata": {},
   "outputs": [
    {
     "data": {
      "text/plain": [
       "Pregnancies                 111\n",
       "Glucose                       5\n",
       "BloodPressure                35\n",
       "SkinThickness               227\n",
       "Insulin                     374\n",
       "BMI                          11\n",
       "DiabetesPedigreeFunction      0\n",
       "Age                           0\n",
       "Outcome                     500\n",
       "dtype: int64"
      ]
     },
     "execution_count": 10,
     "metadata": {},
     "output_type": "execute_result"
    }
   ],
   "source": [
    "data.isnull().sum()"
   ]
  },
  {
   "cell_type": "markdown",
   "id": "5f0eedd2",
   "metadata": {},
   "source": [
    "We will replace those 0 data values with the mean value for better analysis."
   ]
  },
  {
   "cell_type": "code",
   "execution_count": 11,
   "id": "fb2b62e5",
   "metadata": {},
   "outputs": [],
   "source": [
    "for column in zero_not_accepted:\n",
    "    data[column] = data[column].replace(0,np.nan)\n",
    "    mean = int(data[column].mean())\n",
    "    data[column] = data[column].replace(np.nan,mean)"
   ]
  },
  {
   "cell_type": "code",
   "execution_count": 16,
   "id": "0bbf76a0",
   "metadata": {},
   "outputs": [],
   "source": [
    "# Since we have NaN values in outcome so we will use 0 instead\n",
    "data[\"Outcome\"] = data[\"Outcome\"].fillna(0)"
   ]
  },
  {
   "cell_type": "code",
   "execution_count": 17,
   "id": "42affcbd",
   "metadata": {
    "scrolled": true
   },
   "outputs": [
    {
     "data": {
      "text/plain": [
       "0.0    500\n",
       "1.0    268\n",
       "Name: Outcome, dtype: int64"
      ]
     },
     "execution_count": 17,
     "metadata": {},
     "output_type": "execute_result"
    }
   ],
   "source": [
    "data[\"Outcome\"].value_counts()"
   ]
  },
  {
   "cell_type": "markdown",
   "id": "510c0dc2",
   "metadata": {},
   "source": [
    "as we can see there is no value having NaN data value."
   ]
  },
  {
   "cell_type": "markdown",
   "id": "e17d8fca",
   "metadata": {},
   "source": [
    "# Data Splitting :"
   ]
  },
  {
   "cell_type": "code",
   "execution_count": 18,
   "id": "9982e7e2",
   "metadata": {},
   "outputs": [],
   "source": [
    "# Splitting the data according to dependent and independent variable\n",
    "X = data.iloc[:,1:8]\n",
    "y = data.iloc[:,8]"
   ]
  },
  {
   "cell_type": "code",
   "execution_count": 19,
   "id": "a50e660c",
   "metadata": {},
   "outputs": [],
   "source": [
    "# Splitting the train and test data\n",
    "X_train,X_test,y_train,y_test = train_test_split(X,y,test_size = .3)"
   ]
  },
  {
   "cell_type": "code",
   "execution_count": 20,
   "id": "b970f42c",
   "metadata": {},
   "outputs": [
    {
     "data": {
      "text/plain": [
       "((537, 7), (231, 7))"
      ]
     },
     "execution_count": 20,
     "metadata": {},
     "output_type": "execute_result"
    }
   ],
   "source": [
    "X_train.shape,X_test.shape"
   ]
  },
  {
   "cell_type": "code",
   "execution_count": 21,
   "id": "d6a67363",
   "metadata": {},
   "outputs": [
    {
     "data": {
      "text/plain": [
       "((537,), (231,))"
      ]
     },
     "execution_count": 21,
     "metadata": {},
     "output_type": "execute_result"
    }
   ],
   "source": [
    "y_train.shape,y_test.shape"
   ]
  },
  {
   "cell_type": "markdown",
   "id": "b4050943",
   "metadata": {},
   "source": [
    "Thumb Rule :\n",
    "        \"Any algorithm that computes distance or assumes normality ,scale your features\""
   ]
  },
  {
   "cell_type": "code",
   "execution_count": 22,
   "id": "1af9bf8d",
   "metadata": {},
   "outputs": [],
   "source": [
    "\"\"\"Feature Scaling is a technique to standardize the independent features \n",
    "present in the data in a fixed range. \n",
    "It is performed during the data pre-processing. \n",
    " \"\"\"\n",
    "# Feature scaling \n",
    "sc_x = StandardScaler()\n",
    "X_train = sc_x.fit_transform(X_train)\n",
    "X_test = sc_x.fit_transform(X_test)"
   ]
  },
  {
   "cell_type": "code",
   "execution_count": 23,
   "id": "c6e1cd63",
   "metadata": {},
   "outputs": [
    {
     "data": {
      "text/plain": [
       "array([[-0.05003849,  1.14410183,  1.22394633, ...,  1.94208055,\n",
       "         0.99965131, -0.38706563],\n",
       "       [-1.22608841, -0.05954987,  0.2418131 , ..., -0.46757679,\n",
       "        -0.52235775,  1.16554593],\n",
       "       [-0.62126274,  0.45630086,  1.34671298, ...,  0.25986694,\n",
       "        -0.69808874, -0.84371608],\n",
       "       ...,\n",
       "       [-0.92367558, -1.95100254,  0.11904645, ..., -0.61912756,\n",
       "        -0.34662676, -0.93504617],\n",
       "       [ 1.26041714,  1.48800232, -0.0037202 , ..., -0.17963031,\n",
       "         0.99071584,  2.99214776],\n",
       "       [ 1.26041714,  0.45630086, -0.0037202 , ...,  0.0173857 ,\n",
       "         0.98475886, -0.20440544]])"
      ]
     },
     "execution_count": 23,
     "metadata": {},
     "output_type": "execute_result"
    }
   ],
   "source": [
    "X_test"
   ]
  },
  {
   "cell_type": "code",
   "execution_count": 24,
   "id": "2bd820cd",
   "metadata": {},
   "outputs": [
    {
     "data": {
      "text/plain": [
       "array([[ 1.62337456, -0.34656535,  2.19511506, ...,  1.44600031,\n",
       "         0.6999015 , -0.43388644],\n",
       "       [ 0.54774096, -0.83524525, -1.34209961, ..., -1.46235482,\n",
       "        -0.80419187, -1.01327512],\n",
       "       [ 0.84109558, -0.02077875,  0.64758364, ...,  0.18523552,\n",
       "         0.47200856,  1.38704941],\n",
       "       ...,\n",
       "       [ 0.12400651,  1.28236763,  1.31081139, ...,  1.00186726,\n",
       "         0.70597864, -0.51665625],\n",
       "       [-0.36491785, -0.02077875, -0.12618206, ..., -1.20447111,\n",
       "        -0.19647738, -0.51665625],\n",
       "       [ 0.77590566, -0.02077875, -0.01564411, ..., -0.6887037 ,\n",
       "        -0.70391898, -0.43388644]])"
      ]
     },
     "execution_count": 24,
     "metadata": {},
     "output_type": "execute_result"
    }
   ],
   "source": [
    "X_train"
   ]
  },
  {
   "cell_type": "markdown",
   "id": "955c3855",
   "metadata": {},
   "source": [
    "# Fitting Into The Model :"
   ]
  },
  {
   "cell_type": "code",
   "execution_count": 25,
   "id": "da68998a",
   "metadata": {},
   "outputs": [
    {
     "data": {
      "text/plain": [
       "KNeighborsClassifier(metric='euclidean', n_neighbors=11)"
      ]
     },
     "execution_count": 25,
     "metadata": {},
     "output_type": "execute_result"
    }
   ],
   "source": [
    "classifier = KNeighborsClassifier(n_neighbors = 11,metric = \"euclidean\")\n",
    "classifier.fit(X_train,y_train)"
   ]
  },
  {
   "cell_type": "code",
   "execution_count": 26,
   "id": "5a6bae91",
   "metadata": {},
   "outputs": [],
   "source": [
    "prediction = classifier.predict(X_test)"
   ]
  },
  {
   "cell_type": "markdown",
   "id": "f4ceeffa",
   "metadata": {},
   "source": [
    "# Accuracy :"
   ]
  },
  {
   "cell_type": "code",
   "execution_count": 27,
   "id": "5578fc0f",
   "metadata": {},
   "outputs": [
    {
     "data": {
      "text/plain": [
       "77.48917748917748"
      ]
     },
     "execution_count": 27,
     "metadata": {},
     "output_type": "execute_result"
    }
   ],
   "source": [
    "accuracy_score(y_test,classifier.predict(X_test))*100"
   ]
  },
  {
   "cell_type": "code",
   "execution_count": 28,
   "id": "38189f7c",
   "metadata": {},
   "outputs": [
    {
     "name": "stdout",
     "output_type": "stream",
     "text": [
      "[[126  21]\n",
      " [ 31  53]]\n"
     ]
    }
   ],
   "source": [
    "cm = confusion_matrix(y_test,prediction)\n",
    "print(cm)"
   ]
  },
  {
   "cell_type": "markdown",
   "id": "6c033b58",
   "metadata": {},
   "source": [
    "here in our predcition matrix : (1,1)&(2,2) --> correct prediction\n",
    "                                (1,2),(2,1) --> wrong prediction"
   ]
  },
  {
   "cell_type": "code",
   "execution_count": 29,
   "id": "e1dd770c",
   "metadata": {},
   "outputs": [
    {
     "data": {
      "text/plain": [
       "0.6708860759493671"
      ]
     },
     "execution_count": 29,
     "metadata": {},
     "output_type": "execute_result"
    }
   ],
   "source": [
    "# f1 score\n",
    "from sklearn.metrics import f1_score\n",
    "f1_score(y_test,prediction)\n"
   ]
  },
  {
   "cell_type": "markdown",
   "id": "ee13f5b4",
   "metadata": {},
   "source": [
    "F1 score is a machine learning evaluation metric that measures a model's accuracy. It combines the precision and recall scores of a model. The accuracy metric computes how many times a model made a correct prediction across the entire dataset."
   ]
  },
  {
   "cell_type": "markdown",
   "id": "258027c4",
   "metadata": {},
   "source": [
    "So, we have created a model using K-NN which can predict whether a person will have adiabetes or not."
   ]
  },
  {
   "cell_type": "code",
   "execution_count": null,
   "id": "e3b0570f",
   "metadata": {},
   "outputs": [],
   "source": []
  }
 ],
 "metadata": {
  "kernelspec": {
   "display_name": "Python 3 (ipykernel)",
   "language": "python",
   "name": "python3"
  },
  "language_info": {
   "codemirror_mode": {
    "name": "ipython",
    "version": 3
   },
   "file_extension": ".py",
   "mimetype": "text/x-python",
   "name": "python",
   "nbconvert_exporter": "python",
   "pygments_lexer": "ipython3",
   "version": "3.9.12"
  }
 },
 "nbformat": 4,
 "nbformat_minor": 5
}
